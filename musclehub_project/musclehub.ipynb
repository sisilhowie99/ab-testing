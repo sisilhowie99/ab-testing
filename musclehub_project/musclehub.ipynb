{
 "cells": [
  {
   "cell_type": "markdown",
   "metadata": {},
   "source": [
    "# Capstone Project 1: MuscleHub AB Test"
   ]
  },
  {
   "cell_type": "markdown",
   "metadata": {},
   "source": [
    "## Step 1: Get started with SQL"
   ]
  },
  {
   "cell_type": "markdown",
   "metadata": {},
   "source": [
    "Like most businesses, Janet keeps her data in a SQL database.  Normally, you'd download the data from her database to a csv file, and then load it into a Jupyter Notebook using Pandas.\n",
    "\n",
    "For this project, you'll have to access SQL in a slightly different way.  You'll be using a special Codecademy library that lets you type SQL queries directly into this Jupyter notebook.  You'll have pass each SQL query as an argument to a function called `sql_query`.  Each query will return a Pandas DataFrame.  Here's an example:"
   ]
  },
  {
   "cell_type": "code",
   "execution_count": 252,
   "metadata": {},
   "outputs": [],
   "source": [
    "# This import only needs to happen once, at the beginning of the notebook\n",
    "from codecademySQL import sql_query"
   ]
  },
  {
   "cell_type": "code",
   "execution_count": 253,
   "metadata": {},
   "outputs": [
    {
     "data": {
      "text/html": [
       "<div>\n",
       "<style scoped>\n",
       "    .dataframe tbody tr th:only-of-type {\n",
       "        vertical-align: middle;\n",
       "    }\n",
       "\n",
       "    .dataframe tbody tr th {\n",
       "        vertical-align: top;\n",
       "    }\n",
       "\n",
       "    .dataframe thead th {\n",
       "        text-align: right;\n",
       "    }\n",
       "</style>\n",
       "<table border=\"1\" class=\"dataframe\">\n",
       "  <thead>\n",
       "    <tr style=\"text-align: right;\">\n",
       "      <th></th>\n",
       "      <th>index</th>\n",
       "      <th>first_name</th>\n",
       "      <th>last_name</th>\n",
       "      <th>email</th>\n",
       "      <th>gender</th>\n",
       "      <th>visit_date</th>\n",
       "    </tr>\n",
       "  </thead>\n",
       "  <tbody>\n",
       "    <tr>\n",
       "      <th>0</th>\n",
       "      <td>0</td>\n",
       "      <td>Karen</td>\n",
       "      <td>Manning</td>\n",
       "      <td>Karen.Manning@gmail.com</td>\n",
       "      <td>female</td>\n",
       "      <td>5-1-17</td>\n",
       "    </tr>\n",
       "    <tr>\n",
       "      <th>1</th>\n",
       "      <td>1</td>\n",
       "      <td>Annette</td>\n",
       "      <td>Boone</td>\n",
       "      <td>AB9982@gmail.com</td>\n",
       "      <td>female</td>\n",
       "      <td>5-1-17</td>\n",
       "    </tr>\n",
       "    <tr>\n",
       "      <th>2</th>\n",
       "      <td>2</td>\n",
       "      <td>Salvador</td>\n",
       "      <td>Merritt</td>\n",
       "      <td>SalvadorMerritt12@outlook.com</td>\n",
       "      <td>male</td>\n",
       "      <td>5-1-17</td>\n",
       "    </tr>\n",
       "    <tr>\n",
       "      <th>3</th>\n",
       "      <td>3</td>\n",
       "      <td>Martha</td>\n",
       "      <td>Maxwell</td>\n",
       "      <td>Martha.Maxwell@gmail.com</td>\n",
       "      <td>female</td>\n",
       "      <td>5-1-17</td>\n",
       "    </tr>\n",
       "    <tr>\n",
       "      <th>4</th>\n",
       "      <td>4</td>\n",
       "      <td>Andre</td>\n",
       "      <td>Mayer</td>\n",
       "      <td>AndreMayer90@gmail.com</td>\n",
       "      <td>male</td>\n",
       "      <td>5-1-17</td>\n",
       "    </tr>\n",
       "  </tbody>\n",
       "</table>\n",
       "</div>"
      ],
      "text/plain": [
       "   index first_name last_name                          email  gender  \\\n",
       "0      0      Karen   Manning        Karen.Manning@gmail.com  female   \n",
       "1      1    Annette     Boone               AB9982@gmail.com  female   \n",
       "2      2   Salvador   Merritt  SalvadorMerritt12@outlook.com    male   \n",
       "3      3     Martha   Maxwell       Martha.Maxwell@gmail.com  female   \n",
       "4      4      Andre     Mayer         AndreMayer90@gmail.com    male   \n",
       "\n",
       "  visit_date  \n",
       "0     5-1-17  \n",
       "1     5-1-17  \n",
       "2     5-1-17  \n",
       "3     5-1-17  \n",
       "4     5-1-17  "
      ]
     },
     "execution_count": 253,
     "metadata": {},
     "output_type": "execute_result"
    }
   ],
   "source": [
    "# Here's an example of a query that just displays some data\n",
    "sql_query('''\n",
    "SELECT *\n",
    "FROM visits\n",
    "LIMIT 5\n",
    "''')"
   ]
  },
  {
   "cell_type": "code",
   "execution_count": 254,
   "metadata": {},
   "outputs": [],
   "source": [
    "# Here's an example where we save the data to a DataFrame\n",
    "df = sql_query('''\n",
    "SELECT *\n",
    "FROM applications\n",
    "LIMIT 5\n",
    "''')"
   ]
  },
  {
   "cell_type": "markdown",
   "metadata": {},
   "source": [
    "## Step 2: Get your dataset"
   ]
  },
  {
   "cell_type": "markdown",
   "metadata": {},
   "source": [
    "Let's get started!\n",
    "\n",
    "Janet of MuscleHub has a SQLite database, which contains several tables that will be helpful to you in this investigation:\n",
    "- `visits` contains information about potential gym customers who have visited MuscleHub\n",
    "- `fitness_tests` contains information about potential customers in \"Group A\", who were given a fitness test\n",
    "- `applications` contains information about any potential customers (both \"Group A\" and \"Group B\") who filled out an application.  Not everyone in `visits` will have filled out an application.\n",
    "- `purchases` contains information about customers who purchased a membership to MuscleHub.\n",
    "\n",
    "Use the space below to examine each table."
   ]
  },
  {
   "cell_type": "code",
   "execution_count": 255,
   "metadata": {},
   "outputs": [
    {
     "name": "stdout",
     "output_type": "stream",
     "text": [
      "   index first_name last_name                          email  gender  \\\n",
      "0      0      Karen   Manning        Karen.Manning@gmail.com  female   \n",
      "1      1    Annette     Boone               AB9982@gmail.com  female   \n",
      "2      2   Salvador   Merritt  SalvadorMerritt12@outlook.com    male   \n",
      "3      3     Martha   Maxwell       Martha.Maxwell@gmail.com  female   \n",
      "4      4      Andre     Mayer         AndreMayer90@gmail.com    male   \n",
      "\n",
      "  visit_date  \n",
      "0     5-1-17  \n",
      "1     5-1-17  \n",
      "2     5-1-17  \n",
      "3     5-1-17  \n",
      "4     5-1-17  \n"
     ]
    }
   ],
   "source": [
    "# Examine visits here\n",
    "visit_table = sql_query('''\n",
    "SELECT *\n",
    "FROM visits\n",
    "LIMIT 5\n",
    "''')\n",
    "print(visit_table)"
   ]
  },
  {
   "cell_type": "code",
   "execution_count": 256,
   "metadata": {},
   "outputs": [
    {
     "name": "stdout",
     "output_type": "stream",
     "text": [
      "   index first_name last_name                   email  gender  \\\n",
      "0      0        Kim    Walter   KimWalter58@gmail.com  female   \n",
      "1      1        Tom   Webster        TW3857@gmail.com    male   \n",
      "2      2     Marcus     Bauer  Marcus.Bauer@gmail.com    male   \n",
      "3      3    Roberta      Best      RB6305@hotmail.com  female   \n",
      "4      4     Carrie   Francis      CF1896@hotmail.com  female   \n",
      "\n",
      "  fitness_test_date  \n",
      "0        2017-07-03  \n",
      "1        2017-07-02  \n",
      "2        2017-07-01  \n",
      "3        2017-07-02  \n",
      "4        2017-07-05  \n"
     ]
    }
   ],
   "source": [
    "# Examine fitness_tests here\n",
    "fitness_test_table = sql_query('''\n",
    "SELECT *\n",
    "FROM fitness_tests\n",
    "LIMIT 5\n",
    "''')\n",
    "print(fitness_test_table)"
   ]
  },
  {
   "cell_type": "code",
   "execution_count": 257,
   "metadata": {},
   "outputs": [
    {
     "name": "stdout",
     "output_type": "stream",
     "text": [
      "   index first_name last_name                    email  gender  \\\n",
      "0      0        Roy    Abbott    RoyAbbott32@gmail.com    male   \n",
      "1      1      Agnes   Acevedo  AgnesAcevedo1@gmail.com  female   \n",
      "2      2    Roberta   Acevedo         RA8063@gmail.com  female   \n",
      "3      3     Darren    Acosta  DAcosta1996@hotmail.com    male   \n",
      "4      4     Vernon    Acosta    VAcosta1975@gmail.com    male   \n",
      "\n",
      "  application_date  \n",
      "0       2017-08-12  \n",
      "1       2017-09-29  \n",
      "2       2017-09-15  \n",
      "3       2017-07-26  \n",
      "4       2017-07-14  \n"
     ]
    }
   ],
   "source": [
    "# Examine applications here\n",
    "app_table = sql_query('''\n",
    "SELECT *\n",
    "FROM applications\n",
    "LIMIT 5\n",
    "''')\n",
    "print(app_table)"
   ]
  },
  {
   "cell_type": "code",
   "execution_count": 258,
   "metadata": {},
   "outputs": [
    {
     "name": "stdout",
     "output_type": "stream",
     "text": [
      "   index first_name last_name                    email  gender purchase_date\n",
      "0      0        Roy    Abbott    RoyAbbott32@gmail.com    male    2017-08-18\n",
      "1      1    Roberta   Acevedo         RA8063@gmail.com  female    2017-09-16\n",
      "2      2     Vernon    Acosta    VAcosta1975@gmail.com    male    2017-07-20\n",
      "3      3     Darren    Acosta  DAcosta1996@hotmail.com    male    2017-07-27\n",
      "4      4       Dawn    Adkins    Dawn.Adkins@gmail.com  female    2017-08-24\n"
     ]
    }
   ],
   "source": [
    "# Examine purchases here\n",
    "purchases_table = sql_query('''\n",
    "SELECT *\n",
    "FROM purchases\n",
    "LIMIT 5\n",
    "''')\n",
    "print(purchases_table)"
   ]
  },
  {
   "cell_type": "markdown",
   "metadata": {},
   "source": [
    "We'd like to download a giant DataFrame containing all of this data.  You'll need to write a query that does the following things:\n",
    "\n",
    "1. Not all visits in  `visits` occurred during the A/B test.  You'll only want to pull data where `visit_date` is on or after `7-1-17`.\n",
    "\n",
    "2. You'll want to perform a series of `LEFT JOIN` commands to combine the four tables that we care about.  You'll need to perform the joins on `first_name`, `last_name`, and `email`.  Pull the following columns:\n",
    "\n",
    "\n",
    "- `visits.first_name`\n",
    "- `visits.last_name`\n",
    "- `visits.gender`\n",
    "- `visits.email`\n",
    "- `visits.visit_date`\n",
    "- `fitness_tests.fitness_test_date`\n",
    "- `applications.application_date`\n",
    "- `purchases.purchase_date`\n",
    "\n",
    "Save the result of this query to a variable called `df`.\n",
    "\n",
    "Hint: your result should have 5004 rows.  Does it?"
   ]
  },
  {
   "cell_type": "code",
   "execution_count": 259,
   "metadata": {},
   "outputs": [
    {
     "name": "stdout",
     "output_type": "stream",
     "text": [
      "5004\n",
      "     first_name last_name                       email  gender visit_date  \\\n",
      "0           Kim    Walter       KimWalter58@gmail.com  female     7-1-17   \n",
      "1           Tom   Webster            TW3857@gmail.com    male     7-1-17   \n",
      "2        Edward     Bowen      Edward.Bowen@gmail.com    male     7-1-17   \n",
      "3        Marcus     Bauer      Marcus.Bauer@gmail.com    male     7-1-17   \n",
      "4       Roberta      Best          RB6305@hotmail.com  female     7-1-17   \n",
      "...         ...       ...                         ...     ...        ...   \n",
      "4999     Rachel   Hensley   RachelHensley38@gmail.com  female     9-9-17   \n",
      "5000       Leon    Harmon       Leon.Harmon@gmail.com    male     9-9-17   \n",
      "5001       Andy     Pratt       AndyPratt27@gmail.com    male     9-9-17   \n",
      "5002      Ruben   Nielsen  RubenNielsen93@hotmail.com    male     9-9-17   \n",
      "5003    Charles    Carver            CC2490@gmail.com    male     9-9-17   \n",
      "\n",
      "     fitness_test_date application_date purchase_date  \n",
      "0           2017-07-03             None          None  \n",
      "1           2017-07-02             None          None  \n",
      "2                 None       2017-07-04    2017-07-04  \n",
      "3           2017-07-01       2017-07-03    2017-07-05  \n",
      "4           2017-07-02             None          None  \n",
      "...                ...              ...           ...  \n",
      "4999              None             None          None  \n",
      "5000        2017-09-15             None          None  \n",
      "5001        2017-09-15             None          None  \n",
      "5002              None       2017-09-13          None  \n",
      "5003        2017-09-12             None          None  \n",
      "\n",
      "[5004 rows x 8 columns]\n"
     ]
    }
   ],
   "source": [
    "july_onwards_visits = sql_query('''\n",
    "SELECT *\n",
    "FROM visits\n",
    "WHERE visit_date >= '7-1-17'\n",
    "''')\n",
    "# print(july_onwards_visits)\n",
    "\n",
    "df = sql_query('''\n",
    "SELECT visits.first_name, visits.last_name, visits.email, visits.gender, visits.visit_date, fitness_tests.fitness_test_date, applications.application_date, purchases.purchase_date\n",
    "FROM visits\n",
    "LEFT JOIN fitness_tests\n",
    "ON visits.first_name = fitness_tests.first_name AND visits.last_name = fitness_tests.last_name AND visits.email = fitness_tests.email\n",
    "LEFT JOIN applications\n",
    "ON visits.first_name = applications.first_name AND visits.last_name = applications.last_name AND visits.email = applications.email\n",
    "LEFT JOIN purchases\n",
    "ON visits.first_name = purchases.first_name AND visits.last_name = purchases.last_name AND visits.email = purchases.email\n",
    "WHERE visits.visit_date >= \\'7-1-17'\n",
    "''')\n",
    "print(len(df))\n",
    "print(df)\n"
   ]
  },
  {
   "cell_type": "markdown",
   "metadata": {},
   "source": [
    "## Step 3: Investigate the A and B groups"
   ]
  },
  {
   "cell_type": "markdown",
   "metadata": {},
   "source": [
    "We have some data to work with! Import the following modules so that we can start doing analysis:\n",
    "- `import pandas as pd`\n",
    "- `from matplotlib import pyplot as plt`"
   ]
  },
  {
   "cell_type": "code",
   "execution_count": 260,
   "metadata": {},
   "outputs": [],
   "source": [
    "import pandas as pd\n",
    "from matplotlib import pyplot as plt"
   ]
  },
  {
   "cell_type": "markdown",
   "metadata": {},
   "source": [
    "We're going to add some columns to `df` to help us with our analysis.\n",
    "\n",
    "Start by adding a column called `ab_test_group`.  It should be `A` if `fitness_test_date` is not `None`, and `B` if `fitness_test_date` is `None`."
   ]
  },
  {
   "cell_type": "code",
   "execution_count": 261,
   "metadata": {},
   "outputs": [
    {
     "name": "stdout",
     "output_type": "stream",
     "text": [
      "     first_name last_name                       email  gender visit_date  \\\n",
      "0           Kim    Walter       KimWalter58@gmail.com  female     7-1-17   \n",
      "1           Tom   Webster            TW3857@gmail.com    male     7-1-17   \n",
      "2        Edward     Bowen      Edward.Bowen@gmail.com    male     7-1-17   \n",
      "3        Marcus     Bauer      Marcus.Bauer@gmail.com    male     7-1-17   \n",
      "4       Roberta      Best          RB6305@hotmail.com  female     7-1-17   \n",
      "...         ...       ...                         ...     ...        ...   \n",
      "4999     Rachel   Hensley   RachelHensley38@gmail.com  female     9-9-17   \n",
      "5000       Leon    Harmon       Leon.Harmon@gmail.com    male     9-9-17   \n",
      "5001       Andy     Pratt       AndyPratt27@gmail.com    male     9-9-17   \n",
      "5002      Ruben   Nielsen  RubenNielsen93@hotmail.com    male     9-9-17   \n",
      "5003    Charles    Carver            CC2490@gmail.com    male     9-9-17   \n",
      "\n",
      "     fitness_test_date application_date purchase_date ab_test_group  \n",
      "0           2017-07-03             None          None             A  \n",
      "1           2017-07-02             None          None             A  \n",
      "2                 None       2017-07-04    2017-07-04             B  \n",
      "3           2017-07-01       2017-07-03    2017-07-05             A  \n",
      "4           2017-07-02             None          None             A  \n",
      "...                ...              ...           ...           ...  \n",
      "4999              None             None          None             B  \n",
      "5000        2017-09-15             None          None             A  \n",
      "5001        2017-09-15             None          None             A  \n",
      "5002              None       2017-09-13          None             B  \n",
      "5003        2017-09-12             None          None             A  \n",
      "\n",
      "[5004 rows x 9 columns]\n"
     ]
    }
   ],
   "source": [
    "df['ab_test_group'] = df.fitness_test_date.apply(lambda x: 'A' if x != None else 'B')\n",
    "print(df)"
   ]
  },
  {
   "cell_type": "markdown",
   "metadata": {},
   "source": [
    "Let's do a quick sanity check that Janet split her visitors such that about half are in A and half are in B.\n",
    "\n",
    "Start by using `groupby` to count how many users are in each `ab_test_group`.  Save the results to `ab_counts`."
   ]
  },
  {
   "cell_type": "code",
   "execution_count": 262,
   "metadata": {},
   "outputs": [
    {
     "name": "stdout",
     "output_type": "stream",
     "text": [
      "  ab_test_group  first_name  last_name  email  gender  visit_date  \\\n",
      "0             A        2504       2504   2504    2504        2504   \n",
      "1             B        2500       2500   2500    2500        2500   \n",
      "\n",
      "   fitness_test_date  application_date  purchase_date  \n",
      "0               2504               250            200  \n",
      "1                  0               325            250  \n"
     ]
    }
   ],
   "source": [
    "ab_counts = df.groupby('ab_test_group').count().reset_index()\n",
    "print(ab_counts)"
   ]
  },
  {
   "cell_type": "markdown",
   "metadata": {},
   "source": [
    "We'll want to include this information in our presentation.  Let's create a pie cart using `plt.pie`.  Make sure to include:\n",
    "- Use `plt.axis('equal')` so that your pie chart looks nice\n",
    "- Add a legend labeling `A` and `B`\n",
    "- Use `autopct` to label the percentage of each group\n",
    "- Save your figure as `ab_test_pie_chart.png`"
   ]
  },
  {
   "cell_type": "code",
   "execution_count": 263,
   "metadata": {},
   "outputs": [
    {
     "data": {
      "image/png": "[encoded data removed]",
      "text/plain": [
       "<Figure size 432x288 with 1 Axes>"
      ]
     },
     "metadata": {},
     "output_type": "display_data"
    },
    {
     "data": {
      "text/plain": [
       "<Figure size 432x288 with 0 Axes>"
      ]
     },
     "metadata": {},
     "output_type": "display_data"
    }
   ],
   "source": [
    "plt.pie(ab_counts.first_name, autopct='%d%%')\n",
    "plt.axis('equal')\n",
    "plt.legend(['A', 'B'])\n",
    "plt.show()\n",
    "plt.savefig('ab_test_pie_chart.png')"
   ]
  },
  {
   "cell_type": "markdown",
   "metadata": {},
   "source": [
    "## Step 4: Who picks up an application?"
   ]
  },
  {
   "cell_type": "markdown",
   "metadata": {},
   "source": [
    "Recall that the sign-up process for MuscleHub has several steps:\n",
    "1. Take a fitness test with a personal trainer (only Group A)\n",
    "2. Fill out an application for the gym\n",
    "3. Send in their payment for their first month's membership\n",
    "\n",
    "Let's examine how many people make it to Step 2, filling out an application.\n",
    "\n",
    "Start by creating a new column in `df` called `is_application` which is `Application` if `application_date` is not `None` and `No Application`, otherwise."
   ]
  },
  {
   "cell_type": "code",
   "execution_count": 264,
   "metadata": {},
   "outputs": [
    {
     "name": "stdout",
     "output_type": "stream",
     "text": [
      "     first_name last_name                       email  gender visit_date  \\\n",
      "0           Kim    Walter       KimWalter58@gmail.com  female     7-1-17   \n",
      "1           Tom   Webster            TW3857@gmail.com    male     7-1-17   \n",
      "2        Edward     Bowen      Edward.Bowen@gmail.com    male     7-1-17   \n",
      "3        Marcus     Bauer      Marcus.Bauer@gmail.com    male     7-1-17   \n",
      "4       Roberta      Best          RB6305@hotmail.com  female     7-1-17   \n",
      "...         ...       ...                         ...     ...        ...   \n",
      "4999     Rachel   Hensley   RachelHensley38@gmail.com  female     9-9-17   \n",
      "5000       Leon    Harmon       Leon.Harmon@gmail.com    male     9-9-17   \n",
      "5001       Andy     Pratt       AndyPratt27@gmail.com    male     9-9-17   \n",
      "5002      Ruben   Nielsen  RubenNielsen93@hotmail.com    male     9-9-17   \n",
      "5003    Charles    Carver            CC2490@gmail.com    male     9-9-17   \n",
      "\n",
      "     fitness_test_date application_date purchase_date ab_test_group  \\\n",
      "0           2017-07-03             None          None             A   \n",
      "1           2017-07-02             None          None             A   \n",
      "2                 None       2017-07-04    2017-07-04             B   \n",
      "3           2017-07-01       2017-07-03    2017-07-05             A   \n",
      "4           2017-07-02             None          None             A   \n",
      "...                ...              ...           ...           ...   \n",
      "4999              None             None          None             B   \n",
      "5000        2017-09-15             None          None             A   \n",
      "5001        2017-09-15             None          None             A   \n",
      "5002              None       2017-09-13          None             B   \n",
      "5003        2017-09-12             None          None             A   \n",
      "\n",
      "      is_application  \n",
      "0     No Application  \n",
      "1     No Application  \n",
      "2        Application  \n",
      "3        Application  \n",
      "4     No Application  \n",
      "...              ...  \n",
      "4999  No Application  \n",
      "5000  No Application  \n",
      "5001  No Application  \n",
      "5002     Application  \n",
      "5003  No Application  \n",
      "\n",
      "[5004 rows x 10 columns]\n"
     ]
    }
   ],
   "source": [
    "df['is_application'] = df.application_date.apply(lambda x: 'Application' if x != None else 'No Application')\n",
    "print(df)"
   ]
  },
  {
   "cell_type": "markdown",
   "metadata": {},
   "source": [
    "Now, using `groupby`, count how many people from Group A and Group B either do or don't pick up an application.  You'll want to group by `ab_test_group` and `is_application`.  Save this new DataFrame as `app_counts`"
   ]
  },
  {
   "cell_type": "code",
   "execution_count": 265,
   "metadata": {},
   "outputs": [
    {
     "name": "stdout",
     "output_type": "stream",
     "text": [
      "  ab_test_group  is_application  first_name  last_name  email  gender  \\\n",
      "0             A     Application         250        250    250     250   \n",
      "1             A  No Application        2254       2254   2254    2254   \n",
      "2             B     Application         325        325    325     325   \n",
      "3             B  No Application        2175       2175   2175    2175   \n",
      "\n",
      "   visit_date  fitness_test_date  application_date  purchase_date  \n",
      "0         250                250               250            200  \n",
      "1        2254               2254                 0              0  \n",
      "2         325                  0               325            250  \n",
      "3        2175                  0                 0              0  \n"
     ]
    }
   ],
   "source": [
    "app_counts = df.groupby(['ab_test_group', 'is_application']).count().reset_index()\n",
    "print(app_counts)"
   ]
  },
  {
   "cell_type": "markdown",
   "metadata": {},
   "source": [
    "We're going to want to calculate the percent of people in each group who complete an application.  It's going to be much easier to do this if we pivot `app_counts` such that:\n",
    "- The `index` is `ab_test_group`\n",
    "- The `columns` are `is_application`\n",
    "Perform this pivot and save it to the variable `app_pivot`.  Remember to call `reset_index()` at the end of the pivot!"
   ]
  },
  {
   "cell_type": "code",
   "execution_count": 266,
   "metadata": {},
   "outputs": [
    {
     "name": "stdout",
     "output_type": "stream",
     "text": [
      "is_application ab_test_group  Application  No Application\n",
      "0                          A          250            2254\n",
      "1                          B          325            2175\n"
     ]
    }
   ],
   "source": [
    "app_pivot = app_counts.pivot(columns='is_application', index='ab_test_group', values='first_name').reset_index()\n",
    "print(app_pivot)"
   ]
  },
  {
   "cell_type": "markdown",
   "metadata": {},
   "source": [
    "Define a new column called `Total`, which is the sum of `Application` and `No Application`."
   ]
  },
  {
   "cell_type": "code",
   "execution_count": 267,
   "metadata": {},
   "outputs": [
    {
     "name": "stdout",
     "output_type": "stream",
     "text": [
      "is_application ab_test_group  Application  No Application  Total\n",
      "0                          A          250            2254   2504\n",
      "1                          B          325            2175   2500\n"
     ]
    }
   ],
   "source": [
    "app_pivot['Total'] = app_pivot.Application + app_pivot['No Application']\n",
    "print(app_pivot)"
   ]
  },
  {
   "cell_type": "markdown",
   "metadata": {},
   "source": [
    "Calculate another column called `Percent with Application`, which is equal to `Application` divided by `Total`."
   ]
  },
  {
   "cell_type": "code",
   "execution_count": 268,
   "metadata": {},
   "outputs": [
    {
     "name": "stdout",
     "output_type": "stream",
     "text": [
      "is_application ab_test_group  Application  No Application  Total  \\\n",
      "0                          A          250            2254   2504   \n",
      "1                          B          325            2175   2500   \n",
      "\n",
      "is_application  Percent with Application  \n",
      "0                               9.984026  \n",
      "1                              13.000000  \n"
     ]
    }
   ],
   "source": [
    "app_pivot['Percent with Application'] = (app_pivot.Application / app_pivot.Total) * 100\n",
    "print(app_pivot)"
   ]
  },
  {
   "cell_type": "markdown",
   "metadata": {},
   "source": [
    "It looks like more people from Group B turned in an application.  Why might that be?\n",
    "\n",
    "We need to know if this difference is statistically significant.\n",
    "\n",
    "Choose a hypothesis tests, import it from `scipy` and perform it.  Be sure to note the p-value.\n",
    "Is this result significant?"
   ]
  },
  {
   "cell_type": "code",
   "execution_count": 269,
   "metadata": {},
   "outputs": [
    {
     "name": "stdout",
     "output_type": "stream",
     "text": [
      "0.0009647827600722304\n",
      "The difference between 2 groups are significant\n"
     ]
    }
   ],
   "source": [
    "from scipy.stats import chi2_contingency\n",
    "\n",
    "contingency = [[250, 2254],\n",
    "               [325, 2175]]\n",
    "\n",
    "chi2, pval, dof, expected = chi2_contingency(contingency)\n",
    "\n",
    "if pval < 0.05:\n",
    "    print(pval)\n",
    "    print('The difference between 2 groups are significant')\n",
    "else:\n",
    "    print(pval)\n",
    "    print('The difference isn\\'t significant.')"
   ]
  },
  {
   "cell_type": "markdown",
   "metadata": {},
   "source": [
    "## Step 4: Who purchases a membership?"
   ]
  },
  {
   "cell_type": "markdown",
   "metadata": {},
   "source": [
    "Of those who picked up an application, how many purchased a membership?\n",
    "\n",
    "Let's begin by adding a column to `df` called `is_member` which is `Member` if `purchase_date` is not `None`, and `Not Member` otherwise."
   ]
  },
  {
   "cell_type": "code",
   "execution_count": 270,
   "metadata": {},
   "outputs": [
    {
     "name": "stdout",
     "output_type": "stream",
     "text": [
      "     first_name last_name                       email  gender visit_date  \\\n",
      "0           Kim    Walter       KimWalter58@gmail.com  female     7-1-17   \n",
      "1           Tom   Webster            TW3857@gmail.com    male     7-1-17   \n",
      "2        Edward     Bowen      Edward.Bowen@gmail.com    male     7-1-17   \n",
      "3        Marcus     Bauer      Marcus.Bauer@gmail.com    male     7-1-17   \n",
      "4       Roberta      Best          RB6305@hotmail.com  female     7-1-17   \n",
      "...         ...       ...                         ...     ...        ...   \n",
      "4999     Rachel   Hensley   RachelHensley38@gmail.com  female     9-9-17   \n",
      "5000       Leon    Harmon       Leon.Harmon@gmail.com    male     9-9-17   \n",
      "5001       Andy     Pratt       AndyPratt27@gmail.com    male     9-9-17   \n",
      "5002      Ruben   Nielsen  RubenNielsen93@hotmail.com    male     9-9-17   \n",
      "5003    Charles    Carver            CC2490@gmail.com    male     9-9-17   \n",
      "\n",
      "     fitness_test_date application_date purchase_date ab_test_group  \\\n",
      "0           2017-07-03             None          None             A   \n",
      "1           2017-07-02             None          None             A   \n",
      "2                 None       2017-07-04    2017-07-04             B   \n",
      "3           2017-07-01       2017-07-03    2017-07-05             A   \n",
      "4           2017-07-02             None          None             A   \n",
      "...                ...              ...           ...           ...   \n",
      "4999              None             None          None             B   \n",
      "5000        2017-09-15             None          None             A   \n",
      "5001        2017-09-15             None          None             A   \n",
      "5002              None       2017-09-13          None             B   \n",
      "5003        2017-09-12             None          None             A   \n",
      "\n",
      "      is_application   is_member  \n",
      "0     No Application  Not Member  \n",
      "1     No Application  Not Member  \n",
      "2        Application      Member  \n",
      "3        Application      Member  \n",
      "4     No Application  Not Member  \n",
      "...              ...         ...  \n",
      "4999  No Application  Not Member  \n",
      "5000  No Application  Not Member  \n",
      "5001  No Application  Not Member  \n",
      "5002     Application  Not Member  \n",
      "5003  No Application  Not Member  \n",
      "\n",
      "[5004 rows x 11 columns]\n"
     ]
    }
   ],
   "source": [
    "df['is_member'] = df.purchase_date.apply(lambda x: 'Member' if x != None else 'Not Member')\n",
    "print(df)"
   ]
  },
  {
   "cell_type": "markdown",
   "metadata": {},
   "source": [
    "Now, let's create a DataFrame called `just_apps` the contains only people who picked up an application."
   ]
  },
  {
   "cell_type": "code",
   "execution_count": 271,
   "metadata": {},
   "outputs": [
    {
     "name": "stdout",
     "output_type": "stream",
     "text": [
      "    first_name last_name                       email  gender visit_date  \\\n",
      "0       Edward     Bowen      Edward.Bowen@gmail.com    male     7-1-17   \n",
      "1       Marcus     Bauer      Marcus.Bauer@gmail.com    male     7-1-17   \n",
      "2     Salvador  Cardenas     SCardenas1980@gmail.com    male     7-1-17   \n",
      "3      Valerie     Munoz        VMunoz1998@gmail.com  female     7-1-17   \n",
      "4      Michael     Burks            MB9820@gmail.com    male     7-1-17   \n",
      "..         ...       ...                         ...     ...        ...   \n",
      "570    Frances      Kerr            FK7982@gmail.com  female     9-8-17   \n",
      "571    Raymond  Cantrell  Raymond.Cantrell@gmail.com    male     9-9-17   \n",
      "572    Roberta   Acevedo            RA8063@gmail.com  female     9-9-17   \n",
      "573    Suzanne  Humphrey  SuzanneHumphrey4@gmail.com  female     9-9-17   \n",
      "574      Ruben   Nielsen  RubenNielsen93@hotmail.com    male     9-9-17   \n",
      "\n",
      "    fitness_test_date application_date purchase_date ab_test_group  \\\n",
      "0                None       2017-07-04    2017-07-04             B   \n",
      "1          2017-07-01       2017-07-03    2017-07-05             A   \n",
      "2          2017-07-07       2017-07-06          None             A   \n",
      "3          2017-07-03       2017-07-05    2017-07-06             A   \n",
      "4                None       2017-07-07    2017-07-13             B   \n",
      "..                ...              ...           ...           ...   \n",
      "570        2017-09-12       2017-09-10    2017-09-15             A   \n",
      "571              None       2017-09-13    2017-09-18             B   \n",
      "572              None       2017-09-15    2017-09-16             B   \n",
      "573        2017-09-09       2017-09-13    2017-09-18             A   \n",
      "574              None       2017-09-13          None             B   \n",
      "\n",
      "    is_application   is_member  \n",
      "0      Application      Member  \n",
      "1      Application      Member  \n",
      "2      Application  Not Member  \n",
      "3      Application      Member  \n",
      "4      Application      Member  \n",
      "..             ...         ...  \n",
      "570    Application      Member  \n",
      "571    Application      Member  \n",
      "572    Application      Member  \n",
      "573    Application      Member  \n",
      "574    Application  Not Member  \n",
      "\n",
      "[575 rows x 11 columns]\n"
     ]
    }
   ],
   "source": [
    "just_apps = df[df.is_application == 'Application'].reset_index(drop=True)\n",
    "print(just_apps)"
   ]
  },
  {
   "cell_type": "markdown",
   "metadata": {},
   "source": [
    "Great! Now, let's do a `groupby` to find out how many people in `just_apps` are and aren't members from each group.  Follow the same process that we did in Step 4, including pivoting the data.  You should end up with a DataFrame that looks like this:\n",
    "\n",
    "|is_member|ab_test_group|Member|Not Member|Total|Percent Purchase|\n",
    "|-|-|-|-|-|-|\n",
    "|0|A|?|?|?|?|\n",
    "|1|B|?|?|?|?|\n",
    "\n",
    "Save your final DataFrame as `member_pivot`."
   ]
  },
  {
   "cell_type": "code",
   "execution_count": 272,
   "metadata": {},
   "outputs": [
    {
     "name": "stdout",
     "output_type": "stream",
     "text": [
      "is_member      Member  Not Member  Total  Percent Purchase\n",
      "ab_test_group                                             \n",
      "A                 200          50    250         80.000000\n",
      "B                 250          75    325         76.923077\n"
     ]
    }
   ],
   "source": [
    "just_apps_grouped = just_apps.groupby(['ab_test_group', 'is_member']).count().reset_index()\n",
    "#print(just_apps_grouped)\n",
    "\n",
    "member_pivot = just_apps_grouped.pivot(columns='is_member', index='ab_test_group', values='first_name')\n",
    "member_pivot['Total'] = member_pivot.Member + member_pivot['Not Member']\n",
    "member_pivot['Percent Purchase'] = member_pivot.Member / member_pivot.Total * 100\n",
    "\n",
    "print(member_pivot)"
   ]
  },
  {
   "cell_type": "markdown",
   "metadata": {},
   "source": [
    "It looks like people who took the fitness test were more likely to purchase a membership **if** they picked up an application.  Why might that be?\n",
    "\n",
    "Just like before, we need to know if this difference is statistically significant.  Choose a hypothesis tests, import it from `scipy` and perform it.  Be sure to note the p-value.\n",
    "Is this result significant?"
   ]
  },
  {
   "cell_type": "code",
   "execution_count": 273,
   "metadata": {},
   "outputs": [
    {
     "name": "stdout",
     "output_type": "stream",
     "text": [
      "The result is not significant\n",
      "People who took fitness test may still be a member even if they do not pick up an application\n",
      "0.43258646051083327\n"
     ]
    }
   ],
   "source": [
    "from scipy.stats import chi2_contingency\n",
    "\n",
    "contingency = [[200, 50],\n",
    "               [250, 75]]\n",
    "\n",
    "chi2, pval, dof, expected = chi2_contingency(contingency)\n",
    "\n",
    "if pval < 0.05:\n",
    "    print('The result is significant')\n",
    "    print('People who took fitness test are more likely to be a member if they pick up an application')\n",
    "    print(pval)\n",
    "else:\n",
    "    print('The result is not significant')\n",
    "    print('People who took fitness test may still be a member even if they do not pick up an application')\n",
    "    print(pval)"
   ]
  },
  {
   "cell_type": "markdown",
   "metadata": {},
   "source": [
    "Previously, we looked at what percent of people **who picked up applications** purchased memberships.  What we really care about is what percentage of **all visitors** purchased memberships.  Return to `df` and do a `groupby` to find out how many people in `df` are and aren't members from each group.  Follow the same process that we did in Step 4, including pivoting the data.  You should end up with a DataFrame that looks like this:\n",
    "\n",
    "|is_member|ab_test_group|Member|Not Member|Total|Percent Purchase|\n",
    "|-|-|-|-|-|-|\n",
    "|0|A|?|?|?|?|\n",
    "|1|B|?|?|?|?|\n",
    "\n",
    "Save your final DataFrame as `final_member_pivot`."
   ]
  },
  {
   "cell_type": "code",
   "execution_count": 274,
   "metadata": {},
   "outputs": [
    {
     "name": "stdout",
     "output_type": "stream",
     "text": [
      "is_member ab_test_group  Member  Not Member  Total  Percent Purchase\n",
      "0                     A     200        2304   2504           7.98722\n",
      "1                     B     250        2250   2500          10.00000\n"
     ]
    }
   ],
   "source": [
    "members = df.groupby(['ab_test_group', 'is_member']).count().reset_index()\n",
    "# print(members)\n",
    "\n",
    "final_member_pivot = members.pivot(columns='is_member', index='ab_test_group', values='first_name').reset_index()\n",
    "final_member_pivot['Total'] = final_member_pivot.Member + final_member_pivot['Not Member']\n",
    "final_member_pivot['Percent Purchase'] = final_member_pivot.Member / final_member_pivot.Total * 100\n",
    "print(final_member_pivot)"
   ]
  },
  {
   "cell_type": "markdown",
   "metadata": {},
   "source": [
    "Previously, when we only considered people who had **already picked up an application**, we saw that there was no significant difference in membership between Group A and Group B.\n",
    "\n",
    "Now, when we consider all people who **visit MuscleHub**, we see that there might be a significant different in memberships between Group A and Group B.  Perform a significance test and check."
   ]
  },
  {
   "cell_type": "code",
   "execution_count": 275,
   "metadata": {},
   "outputs": [
    {
     "name": "stdout",
     "output_type": "stream",
     "text": [
      "There is a significant difference in memberships between groups A and B\n",
      "0.014724114645783203\n"
     ]
    }
   ],
   "source": [
    "from scipy.stats import chi2_contingency\n",
    "\n",
    "contingency = [[200, 2304],\n",
    "               [250, 2250]]\n",
    "\n",
    "chi2, pval, dof, expected = chi2_contingency(contingency)\n",
    "\n",
    "if pval < 0.05:\n",
    "    print('There is a significant difference in memberships between groups A and B')\n",
    "    print(pval)\n",
    "else:\n",
    "    print('There is no significant difference in memberships between groups A and B')\n",
    "    print(pval)"
   ]
  },
  {
   "cell_type": "markdown",
   "metadata": {},
   "source": [
    "## Step 5: Summarize the acquisition funel with a chart"
   ]
  },
  {
   "cell_type": "markdown",
   "metadata": {},
   "source": [
    "We'd like to make a bar chart for Janet that shows the difference between Group A (people who were given the fitness test) and Group B (people who were not given the fitness test) at each state of the process:\n",
    "- Percent of visitors who apply\n",
    "- Percent of applicants who purchase a membership\n",
    "- Percent of visitors who purchase a membership\n",
    "\n",
    "Create one plot for **each** of the three sets of percentages that you calculated in `app_pivot`, `member_pivot` and `final_member_pivot`.  Each plot should:\n",
    "- Label the two bars as `Fitness Test` and `No Fitness Test`\n",
    "- Make sure that the y-axis ticks are expressed as percents (i.e., `5%`)\n",
    "- Have a title"
   ]
  },
  {
   "cell_type": "code",
   "execution_count": 276,
   "metadata": {},
   "outputs": [
    {
     "data": {
      "image/png": "[encoded data removed]",
      "text/plain": [
       "<Figure size 432x288 with 1 Axes>"
      ]
     },
     "metadata": {
      "needs_background": "light"
     },
     "output_type": "display_data"
    }
   ],
   "source": [
    "# People who picked up an application\n",
    "ax = plt.subplot()\n",
    "plt.bar(range(len(app_pivot.ab_test_group)), app_pivot.Application)\n",
    "ax.set_xticks(range(len(app_pivot)))\n",
    "ax.set_xticklabels(['Fitness Test', 'No Fitness Test'])\n",
    "plt.title('People Who Picked Up An Application')\n",
    "plt.show()"
   ]
  },
  {
   "cell_type": "code",
   "execution_count": 277,
   "metadata": {},
   "outputs": [
    {
     "data": {
      "image/png": "[encoded data removed]",
      "text/plain": [
       "<Figure size 432x288 with 1 Axes>"
      ]
     },
     "metadata": {
      "needs_background": "light"
     },
     "output_type": "display_data"
    }
   ],
   "source": [
    "# Applicants who purchase a membership\n",
    "ax = plt.subplot()\n",
    "plt.bar(range(len(member_pivot)), member_pivot.Member)\n",
    "ax.set_xticks(range(len(member_pivot)))\n",
    "ax.set_xticklabels(['Fitness Test', 'No Fitness Test'])\n",
    "plt.title('Applicants Who Purchase A Membership')\n",
    "plt.show()"
   ]
  },
  {
   "cell_type": "code",
   "execution_count": 278,
   "metadata": {},
   "outputs": [
    {
     "data": {
      "image/png": "[encoded data removed]",
      "text/plain": [
       "<Figure size 432x288 with 1 Axes>"
      ]
     },
     "metadata": {
      "needs_background": "light"
     },
     "output_type": "display_data"
    }
   ],
   "source": [
    "# Percentage of visitors who purchase a membership - regardless of picking up an application\n",
    "ax = plt.subplot()\n",
    "plt.bar(range(len(final_member_pivot)), final_member_pivot.Member)\n",
    "ax.set_xticks(range(len(final_member_pivot)))\n",
    "ax.set_xticklabels(['Fitness Test', 'No Fitness Test'])\n",
    "plt.title('People Who Purchase A Membership')\n",
    "plt.show()"
   ]
  }
 ],
 "metadata": {
  "kernelspec": {
   "display_name": "Python 3",
   "language": "python",
   "name": "python3"
  },
  "language_info": {
   "codemirror_mode": {
    "name": "ipython",
    "version": 3
   },
   "file_extension": ".py",
   "mimetype": "text/x-python",
   "name": "python",
   "nbconvert_exporter": "python",
   "pygments_lexer": "ipython3",
   "version": "3.8.3"
  }
 },
 "nbformat": 4,
 "nbformat_minor": 2
}
